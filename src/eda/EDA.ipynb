{
 "cells": [
  {
   "cell_type": "code",
   "execution_count": 2,
   "id": "73c61c36",
   "metadata": {
    "scrolled": true
   },
   "outputs": [
    {
     "name": "stdout",
     "output_type": "stream",
     "text": [
      "Defaulting to user installation because normal site-packages is not writeable\n",
      "Collecting wandb\n",
      "  Downloading wandb-0.15.10-py3-none-any.whl (2.1 MB)\n",
      "\u001b[2K     \u001b[38;2;114;156;31m━━━━━━━━━━━━━━━━━━━━━━━━━━━━━━━━━━━━━━━━\u001b[0m \u001b[32m2.1/2.1 MB\u001b[0m \u001b[31m623.1 kB/s\u001b[0m eta \u001b[36m0:00:00\u001b[0mm eta \u001b[36m0:00:01\u001b[0m[36m0:00:01\u001b[0m\n",
      "\u001b[?25hRequirement already satisfied: protobuf!=4.21.0,<5,>=3.19.0 in /home/ykebour/.local/lib/python3.10/site-packages (from wandb) (4.24.1)\n",
      "Collecting setproctitle\n",
      "  Downloading setproctitle-1.3.2-cp310-cp310-manylinux_2_5_x86_64.manylinux1_x86_64.manylinux_2_17_x86_64.manylinux2014_x86_64.whl (30 kB)\n",
      "Collecting docker-pycreds>=0.4.0\n",
      "  Using cached docker_pycreds-0.4.0-py2.py3-none-any.whl (9.0 kB)\n",
      "Requirement already satisfied: GitPython!=3.1.29,>=1.0.0 in /home/ykebour/.local/lib/python3.10/site-packages (from wandb) (3.1.32)\n",
      "Requirement already satisfied: Click!=8.0.0,>=7.1 in /usr/lib/python3/dist-packages (from wandb) (8.0.3)\n",
      "Requirement already satisfied: PyYAML in /usr/lib/python3/dist-packages (from wandb) (5.4.1)\n",
      "Requirement already satisfied: psutil>=5.0.0 in /home/ykebour/.local/lib/python3.10/site-packages (from wandb) (5.9.5)\n",
      "Collecting pathtools\n",
      "  Using cached pathtools-0.1.2.tar.gz (11 kB)\n",
      "  Preparing metadata (setup.py) ... \u001b[?25ldone\n",
      "\u001b[?25hRequirement already satisfied: setuptools in /usr/lib/python3/dist-packages (from wandb) (59.6.0)\n",
      "Requirement already satisfied: requests<3,>=2.0.0 in /home/ykebour/.local/lib/python3.10/site-packages (from wandb) (2.31.0)\n",
      "Collecting sentry-sdk>=1.0.0\n",
      "  Using cached sentry_sdk-1.31.0-py2.py3-none-any.whl (224 kB)\n",
      "Requirement already satisfied: appdirs>=1.4.3 in /usr/lib/python3/dist-packages (from wandb) (1.4.4)\n",
      "Requirement already satisfied: six>=1.4.0 in /usr/lib/python3/dist-packages (from docker-pycreds>=0.4.0->wandb) (1.16.0)\n",
      "Requirement already satisfied: gitdb<5,>=4.0.1 in /home/ykebour/.local/lib/python3.10/site-packages (from GitPython!=3.1.29,>=1.0.0->wandb) (4.0.10)\n",
      "Requirement already satisfied: charset-normalizer<4,>=2 in /home/ykebour/.local/lib/python3.10/site-packages (from requests<3,>=2.0.0->wandb) (3.2.0)\n",
      "Requirement already satisfied: idna<4,>=2.5 in /usr/lib/python3/dist-packages (from requests<3,>=2.0.0->wandb) (3.3)\n",
      "Requirement already satisfied: certifi>=2017.4.17 in /usr/lib/python3/dist-packages (from requests<3,>=2.0.0->wandb) (2020.6.20)\n",
      "Requirement already satisfied: urllib3<3,>=1.21.1 in /home/ykebour/.local/lib/python3.10/site-packages (from requests<3,>=2.0.0->wandb) (1.26.16)\n",
      "Requirement already satisfied: smmap<6,>=3.0.1 in /home/ykebour/.local/lib/python3.10/site-packages (from gitdb<5,>=4.0.1->GitPython!=3.1.29,>=1.0.0->wandb) (5.0.0)\n",
      "Building wheels for collected packages: pathtools\n",
      "  Building wheel for pathtools (setup.py) ... \u001b[?25ldone\n",
      "\u001b[?25h  Created wheel for pathtools: filename=pathtools-0.1.2-py3-none-any.whl size=8806 sha256=c8ccddf23e18172bd8ffab0225915c1001620ca1dbe9ed825bace97ffcc2d435\n",
      "  Stored in directory: /home/ykebour/.cache/pip/wheels/e7/f3/22/152153d6eb222ee7a56ff8617d80ee5207207a8c00a7aab794\n",
      "Successfully built pathtools\n",
      "Installing collected packages: pathtools, setproctitle, sentry-sdk, docker-pycreds, wandb\n",
      "Successfully installed docker-pycreds-0.4.0 pathtools-0.1.2 sentry-sdk-1.31.0 setproctitle-1.3.2 wandb-0.15.10\n",
      "Note: you may need to restart the kernel to use updated packages.\n"
     ]
    }
   ],
   "source": [
    "pip install wandb"
   ]
  },
  {
   "cell_type": "code",
   "execution_count": 5,
   "id": "dba127c5",
   "metadata": {},
   "outputs": [
    {
     "name": "stdout",
     "output_type": "stream",
     "text": [
      "Defaulting to user installation because normal site-packages is not writeable\n",
      "Collecting pandas_profiling\n",
      "  Downloading pandas_profiling-3.6.6-py2.py3-none-any.whl (324 kB)\n",
      "\u001b[2K     \u001b[38;2;114;156;31m━━━━━━━━━━━━━━━━━━━━━━━━━━━━━━━━━━━━━\u001b[0m \u001b[32m324.4/324.4 KB\u001b[0m \u001b[31m758.4 kB/s\u001b[0m eta \u001b[36m0:00:00\u001b[0m[36m0:00:01\u001b[0mm eta \u001b[36m0:00:01\u001b[0m\n",
      "\u001b[?25hCollecting ydata-profiling\n",
      "  Downloading ydata_profiling-4.5.1-py2.py3-none-any.whl (357 kB)\n",
      "\u001b[2K     \u001b[38;2;114;156;31m━━━━━━━━━━━━━━━━━━━━━━━━━━━━━━━━━━━━━\u001b[0m \u001b[32m357.3/357.3 KB\u001b[0m \u001b[31m653.6 kB/s\u001b[0m eta \u001b[36m0:00:00\u001b[0m[36m0:00:01\u001b[0mm eta \u001b[36m0:00:01\u001b[0m\n",
      "\u001b[?25hCollecting statsmodels<1,>=0.13.2\n",
      "  Downloading statsmodels-0.14.0-cp310-cp310-manylinux_2_17_x86_64.manylinux2014_x86_64.whl (10.1 MB)\n",
      "\u001b[2K     \u001b[38;2;114;156;31m━━━━━━━━━━━━━━━━━━━━━━━━━━━━━━━━━━━━━━━\u001b[0m \u001b[32m10.1/10.1 MB\u001b[0m \u001b[31m651.4 kB/s\u001b[0m eta \u001b[36m0:00:00\u001b[0mm eta \u001b[36m0:00:01\u001b[0m[36m0:00:01\u001b[0m\n",
      "\u001b[?25hCollecting phik<0.13,>=0.11.1\n",
      "  Downloading phik-0.12.3-cp310-cp310-manylinux_2_17_x86_64.manylinux2014_x86_64.whl (679 kB)\n",
      "\u001b[2K     \u001b[38;2;114;156;31m━━━━━━━━━━━━━━━━━━━━━━━━━━━━━━━━━━━━━\u001b[0m \u001b[32m679.5/679.5 KB\u001b[0m \u001b[31m738.9 kB/s\u001b[0m eta \u001b[36m0:00:00\u001b[0m1m731.2 kB/s\u001b[0m eta \u001b[36m0:00:01\u001b[0m\n",
      "\u001b[?25hRequirement already satisfied: requests<3,>=2.24.0 in /home/ykebour/.local/lib/python3.10/site-packages (from ydata-profiling->pandas_profiling) (2.31.0)\n",
      "Collecting visions[type_image_path]==0.7.5\n",
      "  Downloading visions-0.7.5-py3-none-any.whl (102 kB)\n",
      "\u001b[2K     \u001b[38;2;114;156;31m━━━━━━━━━━━━━━━━━━━━━━━━━━━━━━━━━━━━━━━\u001b[0m \u001b[32m102.7/102.7 KB\u001b[0m \u001b[31m1.1 MB/s\u001b[0m eta \u001b[36m0:00:00\u001b[0m[31m1.0 MB/s\u001b[0m eta \u001b[36m0:00:01\u001b[0m\n",
      "\u001b[?25hRequirement already satisfied: tqdm<5,>=4.48.2 in /home/ykebour/.local/lib/python3.10/site-packages (from ydata-profiling->pandas_profiling) (4.65.0)\n",
      "Collecting htmlmin==0.1.12\n",
      "  Using cached htmlmin-0.1.12-py3-none-any.whl\n",
      "Requirement already satisfied: pandas!=1.4.0,<2.1,>1.1 in /home/ykebour/.local/lib/python3.10/site-packages (from ydata-profiling->pandas_profiling) (2.0.3)\n",
      "Collecting multimethod<2,>=1.4\n",
      "  Downloading multimethod-1.9.1-py3-none-any.whl (10 kB)\n",
      "Requirement already satisfied: PyYAML<6.1,>=5.0.0 in /usr/lib/python3/dist-packages (from ydata-profiling->pandas_profiling) (5.4.1)\n",
      "Requirement already satisfied: jinja2<3.2,>=2.11.1 in /home/ykebour/.local/lib/python3.10/site-packages (from ydata-profiling->pandas_profiling) (3.1.2)\n",
      "Collecting dacite>=1.8\n",
      "  Downloading dacite-1.8.1-py3-none-any.whl (14 kB)\n",
      "Requirement already satisfied: typeguard<3,>=2.13.2 in /home/ykebour/.local/lib/python3.10/site-packages (from ydata-profiling->pandas_profiling) (2.13.3)\n",
      "Collecting wordcloud>=1.9.1\n",
      "  Downloading wordcloud-1.9.2-cp310-cp310-manylinux_2_17_x86_64.manylinux2014_x86_64.whl (455 kB)\n",
      "\u001b[2K     \u001b[38;2;114;156;31m━━━━━━━━━━━━━━━━━━━━━━━━━━━━━━━━━━━━━\u001b[0m \u001b[32m455.4/455.4 KB\u001b[0m \u001b[31m651.8 kB/s\u001b[0m eta \u001b[36m0:00:00\u001b[0m1m661.4 kB/s\u001b[0m eta \u001b[36m0:00:01\u001b[0m\n",
      "\u001b[?25hCollecting imagehash==4.3.1\n",
      "  Downloading ImageHash-4.3.1-py2.py3-none-any.whl (296 kB)\n",
      "\u001b[2K     \u001b[38;2;114;156;31m━━━━━━━━━━━━━━━━━━━━━━━━━━━━━━━━━━━━━\u001b[0m \u001b[32m296.5/296.5 KB\u001b[0m \u001b[31m376.1 kB/s\u001b[0m eta \u001b[36m0:00:00\u001b[0m1m373.0 kB/s\u001b[0m eta \u001b[36m0:00:01\u001b[0m\n",
      "\u001b[?25hRequirement already satisfied: scipy<1.12,>=1.4.1 in /home/ykebour/.local/lib/python3.10/site-packages (from ydata-profiling->pandas_profiling) (1.9.0)\n",
      "Requirement already satisfied: pydantic<2,>=1.8.1 in /home/ykebour/.local/lib/python3.10/site-packages (from ydata-profiling->pandas_profiling) (1.10.8)\n",
      "Requirement already satisfied: matplotlib<4,>=3.2 in /home/ykebour/.local/lib/python3.10/site-packages (from ydata-profiling->pandas_profiling) (3.5.3)\n",
      "Requirement already satisfied: numpy<1.24,>=1.16.0 in /home/ykebour/.local/lib/python3.10/site-packages (from ydata-profiling->pandas_profiling) (1.23.0)\n",
      "Requirement already satisfied: seaborn<0.13,>=0.10.1 in /home/ykebour/.local/lib/python3.10/site-packages (from ydata-profiling->pandas_profiling) (0.12.2)\n",
      "Requirement already satisfied: PyWavelets in /home/ykebour/.local/lib/python3.10/site-packages (from imagehash==4.3.1->ydata-profiling->pandas_profiling) (1.4.1)\n",
      "Requirement already satisfied: pillow in /usr/lib/python3/dist-packages (from imagehash==4.3.1->ydata-profiling->pandas_profiling) (9.0.1)\n",
      "Requirement already satisfied: networkx>=2.4 in /home/ykebour/.local/lib/python3.10/site-packages (from visions[type_image_path]==0.7.5->ydata-profiling->pandas_profiling) (3.1)\n",
      "Collecting tangled-up-in-unicode>=0.0.4\n",
      "  Downloading tangled_up_in_unicode-0.2.0-py3-none-any.whl (4.7 MB)\n",
      "\u001b[2K     \u001b[38;2;114;156;31m━━━━━━━━━━━━━━━━━━━━━━━━━━━━━━━━━━━━━━━━\u001b[0m \u001b[32m4.7/4.7 MB\u001b[0m \u001b[31m748.2 kB/s\u001b[0m eta \u001b[36m0:00:00\u001b[0mm eta \u001b[36m0:00:01\u001b[0m[36m0:00:01\u001b[0m\n",
      "\u001b[?25hRequirement already satisfied: attrs>=19.3.0 in /home/ykebour/.local/lib/python3.10/site-packages (from visions[type_image_path]==0.7.5->ydata-profiling->pandas_profiling) (23.1.0)\n",
      "Requirement already satisfied: MarkupSafe>=2.0 in /home/ykebour/.local/lib/python3.10/site-packages (from jinja2<3.2,>=2.11.1->ydata-profiling->pandas_profiling) (2.1.2)\n",
      "Requirement already satisfied: kiwisolver>=1.0.1 in /home/ykebour/.local/lib/python3.10/site-packages (from matplotlib<4,>=3.2->ydata-profiling->pandas_profiling) (1.4.4)\n",
      "Requirement already satisfied: python-dateutil>=2.7 in /home/ykebour/.local/lib/python3.10/site-packages (from matplotlib<4,>=3.2->ydata-profiling->pandas_profiling) (2.8.2)\n",
      "Requirement already satisfied: cycler>=0.10 in /home/ykebour/.local/lib/python3.10/site-packages (from matplotlib<4,>=3.2->ydata-profiling->pandas_profiling) (0.11.0)\n",
      "Requirement already satisfied: pyparsing>=2.2.1 in /usr/lib/python3/dist-packages (from matplotlib<4,>=3.2->ydata-profiling->pandas_profiling) (2.4.7)\n",
      "Requirement already satisfied: packaging>=20.0 in /home/ykebour/.local/lib/python3.10/site-packages (from matplotlib<4,>=3.2->ydata-profiling->pandas_profiling) (23.1)\n",
      "Requirement already satisfied: fonttools>=4.22.0 in /home/ykebour/.local/lib/python3.10/site-packages (from matplotlib<4,>=3.2->ydata-profiling->pandas_profiling) (4.39.4)\n",
      "Requirement already satisfied: tzdata>=2022.1 in /home/ykebour/.local/lib/python3.10/site-packages (from pandas!=1.4.0,<2.1,>1.1->ydata-profiling->pandas_profiling) (2023.3)\n",
      "Requirement already satisfied: pytz>=2020.1 in /usr/lib/python3/dist-packages (from pandas!=1.4.0,<2.1,>1.1->ydata-profiling->pandas_profiling) (2022.1)\n",
      "Requirement already satisfied: joblib>=0.14.1 in /home/ykebour/.local/lib/python3.10/site-packages (from phik<0.13,>=0.11.1->ydata-profiling->pandas_profiling) (1.2.0)\n",
      "Requirement already satisfied: typing-extensions>=4.2.0 in /home/ykebour/.local/lib/python3.10/site-packages (from pydantic<2,>=1.8.1->ydata-profiling->pandas_profiling) (4.6.2)\n",
      "Requirement already satisfied: certifi>=2017.4.17 in /usr/lib/python3/dist-packages (from requests<3,>=2.24.0->ydata-profiling->pandas_profiling) (2020.6.20)\n",
      "Requirement already satisfied: idna<4,>=2.5 in /usr/lib/python3/dist-packages (from requests<3,>=2.24.0->ydata-profiling->pandas_profiling) (3.3)\n",
      "Requirement already satisfied: charset-normalizer<4,>=2 in /home/ykebour/.local/lib/python3.10/site-packages (from requests<3,>=2.24.0->ydata-profiling->pandas_profiling) (3.2.0)\n",
      "Requirement already satisfied: urllib3<3,>=1.21.1 in /home/ykebour/.local/lib/python3.10/site-packages (from requests<3,>=2.24.0->ydata-profiling->pandas_profiling) (1.26.16)\n",
      "Collecting patsy>=0.5.2\n",
      "  Downloading patsy-0.5.3-py2.py3-none-any.whl (233 kB)\n",
      "\u001b[2K     \u001b[38;2;114;156;31m━━━━━━━━━━━━━━━━━━━━━━━━━━━━━━━━━━━━━\u001b[0m \u001b[32m233.8/233.8 KB\u001b[0m \u001b[31m578.2 kB/s\u001b[0m eta \u001b[36m0:00:00\u001b[0m kB/s\u001b[0m eta \u001b[36m0:00:01\u001b[0m:01\u001b[0m\n",
      "\u001b[?25hRequirement already satisfied: six in /usr/lib/python3/dist-packages (from patsy>=0.5.2->statsmodels<1,>=0.13.2->ydata-profiling->pandas_profiling) (1.16.0)\n",
      "Installing collected packages: htmlmin, tangled-up-in-unicode, patsy, multimethod, dacite, imagehash, wordcloud, visions, statsmodels, phik, ydata-profiling, pandas_profiling\n",
      "Successfully installed dacite-1.8.1 htmlmin-0.1.12 imagehash-4.3.1 multimethod-1.9.1 pandas_profiling-3.6.6 patsy-0.5.3 phik-0.12.3 statsmodels-0.14.0 tangled-up-in-unicode-0.2.0 visions-0.7.5 wordcloud-1.9.2 ydata-profiling-4.5.1\n"
     ]
    },
    {
     "name": "stdout",
     "output_type": "stream",
     "text": [
      "Note: you may need to restart the kernel to use updated packages.\n"
     ]
    }
   ],
   "source": [
    "pip install pandas_profiling"
   ]
  },
  {
   "cell_type": "code",
   "execution_count": 3,
   "id": "99729b61",
   "metadata": {},
   "outputs": [
    {
     "name": "stderr",
     "output_type": "stream",
     "text": [
      "\u001b[34m\u001b[1mwandb\u001b[0m: Currently logged in as: \u001b[33myounes_kebour\u001b[0m (\u001b[33myounes-team\u001b[0m). Use \u001b[1m`wandb login --relogin`\u001b[0m to force relogin\n"
     ]
    },
    {
     "data": {
      "text/html": [
       "Tracking run with wandb version 0.15.10"
      ],
      "text/plain": [
       "<IPython.core.display.HTML object>"
      ]
     },
     "metadata": {},
     "output_type": "display_data"
    },
    {
     "data": {
      "text/html": [
       "Run data is saved locally in <code>/home/ykebour/Projects/Ml-OPS/build-ml-pipeline-for-short-term-rental-prices/src/eda/wandb/run-20230919_230611-d4rtnt4f</code>"
      ],
      "text/plain": [
       "<IPython.core.display.HTML object>"
      ]
     },
     "metadata": {},
     "output_type": "display_data"
    },
    {
     "data": {
      "text/html": [
       "Syncing run <strong><a href='https://wandb.ai/younes-team/nyc_airbnb/runs/d4rtnt4f' target=\"_blank\">gallant-frost-2</a></strong> to <a href='https://wandb.ai/younes-team/nyc_airbnb' target=\"_blank\">Weights & Biases</a> (<a href='https://wandb.me/run' target=\"_blank\">docs</a>)<br/>"
      ],
      "text/plain": [
       "<IPython.core.display.HTML object>"
      ]
     },
     "metadata": {},
     "output_type": "display_data"
    },
    {
     "data": {
      "text/html": [
       " View project at <a href='https://wandb.ai/younes-team/nyc_airbnb' target=\"_blank\">https://wandb.ai/younes-team/nyc_airbnb</a>"
      ],
      "text/plain": [
       "<IPython.core.display.HTML object>"
      ]
     },
     "metadata": {},
     "output_type": "display_data"
    },
    {
     "data": {
      "text/html": [
       " View run at <a href='https://wandb.ai/younes-team/nyc_airbnb/runs/d4rtnt4f' target=\"_blank\">https://wandb.ai/younes-team/nyc_airbnb/runs/d4rtnt4f</a>"
      ],
      "text/plain": [
       "<IPython.core.display.HTML object>"
      ]
     },
     "metadata": {},
     "output_type": "display_data"
    }
   ],
   "source": [
    "import wandb\n",
    "import pandas as pd\n",
    "\n",
    "run = wandb.init(project=\"nyc_airbnb\", group=\"eda\", save_code=True)\n",
    "local_path = wandb.use_artifact(\"sample.csv:latest\").file()\n",
    "df = pd.read_csv(local_path)"
   ]
  },
  {
   "cell_type": "code",
   "execution_count": 6,
   "id": "34f8e6a6",
   "metadata": {},
   "outputs": [
    {
     "name": "stderr",
     "output_type": "stream",
     "text": [
      "/tmp/ipykernel_426042/2516835558.py:1: DeprecationWarning: `import pandas_profiling` is going to be deprecated by April 1st. Please use `import ydata_profiling` instead.\n",
      "  import pandas_profiling\n"
     ]
    },
    {
     "data": {
      "application/vnd.jupyter.widget-view+json": {
       "model_id": "5149629beabe45a7a28fb99ed6638389",
       "version_major": 2,
       "version_minor": 0
      },
      "text/plain": [
       "Summarize dataset:   0%|          | 0/5 [00:00<?, ?it/s]"
      ]
     },
     "metadata": {},
     "output_type": "display_data"
    },
    {
     "data": {
      "application/vnd.jupyter.widget-view+json": {
       "model_id": "bc92a43525154949a6226ef2264bf532",
       "version_major": 2,
       "version_minor": 0
      },
      "text/plain": [
       "Generate report structure:   0%|          | 0/1 [00:00<?, ?it/s]"
      ]
     },
     "metadata": {},
     "output_type": "display_data"
    },
    {
     "data": {
      "application/vnd.jupyter.widget-view+json": {
       "model_id": "",
       "version_major": 2,
       "version_minor": 0
      },
      "text/plain": [
       "Render widgets:   0%|          | 0/1 [00:00<?, ?it/s]"
      ]
     },
     "metadata": {},
     "output_type": "display_data"
    },
    {
     "data": {
      "application/vnd.jupyter.widget-view+json": {
       "model_id": "74271d739d444a5a98126abdb912a551",
       "version_major": 2,
       "version_minor": 0
      },
      "text/plain": [
       "VBox(children=(Tab(children=(Tab(children=(GridBox(children=(VBox(children=(GridspecLayout(children=(HTML(valu…"
      ]
     },
     "metadata": {},
     "output_type": "display_data"
    }
   ],
   "source": [
    "import pandas_profiling\n",
    "\n",
    "profile = pandas_profiling.ProfileReport(df)\n",
    "profile.to_widgets()"
   ]
  },
  {
   "cell_type": "code",
   "execution_count": 7,
   "id": "a54264c0",
   "metadata": {},
   "outputs": [],
   "source": [
    "# Drop outliers\n",
    "min_price = 10\n",
    "max_price = 350\n",
    "idx = df['price'].between(min_price, max_price)\n",
    "df = df[idx].copy()\n",
    "# Convert last_review to datetime\n",
    "df['last_review'] = pd.to_datetime(df['last_review'])"
   ]
  },
  {
   "cell_type": "code",
   "execution_count": 8,
   "id": "45ed909b",
   "metadata": {},
   "outputs": [
    {
     "name": "stdout",
     "output_type": "stream",
     "text": [
      "<class 'pandas.core.frame.DataFrame'>\n",
      "Index: 19001 entries, 0 to 19999\n",
      "Data columns (total 16 columns):\n",
      " #   Column                          Non-Null Count  Dtype         \n",
      "---  ------                          --------------  -----         \n",
      " 0   id                              19001 non-null  int64         \n",
      " 1   name                            18994 non-null  object        \n",
      " 2   host_id                         19001 non-null  int64         \n",
      " 3   host_name                       18993 non-null  object        \n",
      " 4   neighbourhood_group             19001 non-null  object        \n",
      " 5   neighbourhood                   19001 non-null  object        \n",
      " 6   latitude                        19001 non-null  float64       \n",
      " 7   longitude                       19001 non-null  float64       \n",
      " 8   room_type                       19001 non-null  object        \n",
      " 9   price                           19001 non-null  int64         \n",
      " 10  minimum_nights                  19001 non-null  int64         \n",
      " 11  number_of_reviews               19001 non-null  int64         \n",
      " 12  last_review                     15243 non-null  datetime64[ns]\n",
      " 13  reviews_per_month               15243 non-null  float64       \n",
      " 14  calculated_host_listings_count  19001 non-null  int64         \n",
      " 15  availability_365                19001 non-null  int64         \n",
      "dtypes: datetime64[ns](1), float64(3), int64(7), object(5)\n",
      "memory usage: 2.5+ MB\n"
     ]
    }
   ],
   "source": [
    "df.info()"
   ]
  },
  {
   "cell_type": "code",
   "execution_count": 9,
   "id": "46cd40fe",
   "metadata": {},
   "outputs": [
    {
     "data": {
      "text/html": [
       "Waiting for W&B process to finish... <strong style=\"color:green\">(success).</strong>"
      ],
      "text/plain": [
       "<IPython.core.display.HTML object>"
      ]
     },
     "metadata": {},
     "output_type": "display_data"
    },
    {
     "data": {
      "text/html": [
       " View run <strong style=\"color:#cdcd00\">gallant-frost-2</strong> at: <a href='https://wandb.ai/younes-team/nyc_airbnb/runs/d4rtnt4f' target=\"_blank\">https://wandb.ai/younes-team/nyc_airbnb/runs/d4rtnt4f</a><br/> View job at <a href='https://wandb.ai/younes-team/nyc_airbnb/jobs/QXJ0aWZhY3RDb2xsZWN0aW9uOjk5MDYyODQ1/version_details/v0' target=\"_blank\">https://wandb.ai/younes-team/nyc_airbnb/jobs/QXJ0aWZhY3RDb2xsZWN0aW9uOjk5MDYyODQ1/version_details/v0</a><br/>Synced 6 W&B file(s), 0 media file(s), 10 artifact file(s) and 1 other file(s)"
      ],
      "text/plain": [
       "<IPython.core.display.HTML object>"
      ]
     },
     "metadata": {},
     "output_type": "display_data"
    },
    {
     "data": {
      "text/html": [
       "Find logs at: <code>./wandb/run-20230919_230611-d4rtnt4f/logs</code>"
      ],
      "text/plain": [
       "<IPython.core.display.HTML object>"
      ]
     },
     "metadata": {},
     "output_type": "display_data"
    }
   ],
   "source": [
    "run.finish()"
   ]
  },
  {
   "cell_type": "code",
   "execution_count": null,
   "id": "e5255627",
   "metadata": {},
   "outputs": [],
   "source": []
  }
 ],
 "metadata": {
  "kernelspec": {
   "display_name": "Python 3 (ipykernel)",
   "language": "python",
   "name": "python3"
  },
  "language_info": {
   "codemirror_mode": {
    "name": "ipython",
    "version": 3
   },
   "file_extension": ".py",
   "mimetype": "text/x-python",
   "name": "python",
   "nbconvert_exporter": "python",
   "pygments_lexer": "ipython3",
   "version": "3.10.12"
  }
 },
 "nbformat": 4,
 "nbformat_minor": 5
}
